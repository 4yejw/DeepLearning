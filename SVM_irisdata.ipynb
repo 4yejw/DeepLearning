{
  "nbformat": 4,
  "nbformat_minor": 0,
  "metadata": {
    "colab": {
      "provenance": [],
      "authorship_tag": "ABX9TyPBBzZ3RGmeSSMLy89yRMTu",
      "include_colab_link": true
    },
    "kernelspec": {
      "name": "python3",
      "display_name": "Python 3"
    },
    "language_info": {
      "name": "python"
    }
  },
  "cells": [
    {
      "cell_type": "markdown",
      "metadata": {
        "id": "view-in-github",
        "colab_type": "text"
      },
      "source": [
        "<a href=\"https://colab.research.google.com/github/4yejw/DeepLearning/blob/main/SVM_irisdata.ipynb\" target=\"_parent\"><img src=\"https://colab.research.google.com/assets/colab-badge.svg\" alt=\"Open In Colab\"/></a>"
      ]
    },
    {
      "cell_type": "code",
      "execution_count": 9,
      "metadata": {
        "id": "yLFqrxEFbwuw"
      },
      "outputs": [],
      "source": [
        "#라이브러리 호출\n",
        "from sklearn import svm #모델\n",
        "from sklearn import metrics #평가\n",
        "from sklearn import datasets #학습\n",
        "from sklearn import model_selection #data 가공\n",
        "\n",
        "import tensorflow as tf\n",
        "import os\n",
        "os.environ['TF_CPP_MIN_LOG_LEVEL']='3' #환경변수값 변경 ??"
      ]
    },
    {
      "cell_type": "code",
      "source": [
        "#iris dataset 로딩, train test dataset으로 분리\n",
        "iris = datasets.load_iris() #사이킷런에서 제공하는 iris데이터 호출\n",
        "#사이킷런의 model_selection패키지에서 제공하는 train_test_split method를 사용하여 train,test set으로 분리\n",
        "#random으로 60%선정 -> train set 40%, test set 60%\n",
        "X_train,X_test,y_train,y_test = model_selection.train_test_split(iris.data,iris.target,test_size=0.6,random_state=42)"
      ],
      "metadata": {
        "id": "TRkQ_7l2cwoP"
      },
      "execution_count": 10,
      "outputs": []
    },
    {
      "cell_type": "code",
      "source": [
        "#SVM모델에 대한 정확도\n",
        "classifier_svm = svm.SVC(kernel='linear',C=1.0,gamma=0.5) #선형분류와 비선형분류를 지원한다. 여기에서는 선형분류를 사용\n",
        "classifier_svm.fit(X_train,y_train) #train data를 사용하여 SVM분류기를 훈련\n",
        "predictions = classifier_svm.predict(X_test)\n",
        "score = metrics.accuracy_score(y_test,predictions)\n",
        "print(\"정확도: {0:f}\".format(score))\n"
      ],
      "metadata": {
        "colab": {
          "base_uri": "https://localhost:8080/"
        },
        "id": "-sRUwyS1dU-c",
        "outputId": "9bf0ac8f-d680-4103-97be-500b028a49ff"
      },
      "execution_count": 12,
      "outputs": [
        {
          "output_type": "stream",
          "name": "stdout",
          "text": [
            "정확도: 0.988889\n"
          ]
        }
      ]
    }
  ]
}