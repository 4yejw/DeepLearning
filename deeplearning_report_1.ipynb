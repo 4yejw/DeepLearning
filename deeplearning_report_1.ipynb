{
  "nbformat": 4,
  "nbformat_minor": 0,
  "metadata": {
    "colab": {
      "provenance": [],
      "toc_visible": true,
      "authorship_tag": "ABX9TyO46tefADpw/F7NJ8+O11eQ",
      "include_colab_link": true
    },
    "kernelspec": {
      "name": "python3",
      "display_name": "Python 3"
    },
    "language_info": {
      "name": "python"
    }
  },
  "cells": [
    {
      "cell_type": "markdown",
      "metadata": {
        "id": "view-in-github",
        "colab_type": "text"
      },
      "source": [
        "<a href=\"https://colab.research.google.com/github/4yejw/DeepLearning/blob/main/deeplearning_report_1.ipynb\" target=\"_parent\"><img src=\"https://colab.research.google.com/assets/colab-badge.svg\" alt=\"Open In Colab\"/></a>"
      ]
    },
    {
      "cell_type": "code",
      "source": [
        "#① ‘red’ 데이터 처음 세줄(3행)을 print 출력하고 열(column)과 행(row)이 각각 몇 개인지 적으시오.\n",
        "import pandas as pd\n",
        "red=pd.read_csv('http://archive.ics.uci.edu/ml/machine-learning-databases/wine-quality/winequality-red.csv',sep=';')\n",
        "\n",
        "print(red.head(3))\n",
        "print()\n",
        "print(\"행: {} 열: {}\".format(len(red.index),len(red.columns)))"
      ],
      "metadata": {
        "colab": {
          "base_uri": "https://localhost:8080/"
        },
        "id": "ZeA-PdxKVbUa",
        "outputId": "e4681bcd-30bc-4ac8-e572-a1670ae829cd"
      },
      "execution_count": 123,
      "outputs": [
        {
          "output_type": "stream",
          "name": "stdout",
          "text": [
            "   fixed acidity  volatile acidity  citric acid  residual sugar  chlorides  \\\n",
            "0            7.4              0.70         0.00             1.9      0.076   \n",
            "1            7.8              0.88         0.00             2.6      0.098   \n",
            "2            7.8              0.76         0.04             2.3      0.092   \n",
            "\n",
            "   free sulfur dioxide  total sulfur dioxide  density    pH  sulphates  \\\n",
            "0                 11.0                  34.0   0.9978  3.51       0.56   \n",
            "1                 25.0                  67.0   0.9968  3.20       0.68   \n",
            "2                 15.0                  54.0   0.9970  3.26       0.65   \n",
            "\n",
            "   alcohol  quality  \n",
            "0      9.4        5  \n",
            "1      9.8        5  \n",
            "2      9.8        5  \n",
            "\n",
            "행: 1599 열: 12\n"
          ]
        }
      ]
    },
    {
      "cell_type": "code",
      "source": [
        "#② 열(column)가운데 임의로 5개만 선택하여 ‘red’ 데이터를 다시 만들고 처음 5행을 print 출력한다.\n",
        "import pandas as pd\n",
        "red=pd.read_csv('http://archive.ics.uci.edu/ml/machine-learning-databases/wine-quality/winequality-red.csv',sep=';')\n",
        "\n",
        "red = red.sample(n=5,random_state=789,axis=1) #열 중에 5개만 랜덤 선택하여 red data를 다시 만듦\n",
        "\n",
        "print(red.head())"
      ],
      "metadata": {
        "colab": {
          "base_uri": "https://localhost:8080/"
        },
        "id": "9GnDfoT1VlOl",
        "outputId": "0e016dd1-d530-43bd-890d-bd53d312f66c"
      },
      "execution_count": 124,
      "outputs": [
        {
          "output_type": "stream",
          "name": "stdout",
          "text": [
            "   free sulfur dioxide  alcohol  total sulfur dioxide  sulphates  density\n",
            "0                 11.0      9.4                  34.0       0.56   0.9978\n",
            "1                 25.0      9.8                  67.0       0.68   0.9968\n",
            "2                 15.0      9.8                  54.0       0.65   0.9970\n",
            "3                 17.0      9.8                  60.0       0.58   0.9980\n",
            "4                 11.0      9.4                  34.0       0.56   0.9978\n"
          ]
        }
      ]
    },
    {
      "cell_type": "code",
      "execution_count": 62,
      "metadata": {
        "colab": {
          "base_uri": "https://localhost:8080/"
        },
        "id": "GL_sZvTI-0C5",
        "outputId": "d2778dcd-4539-4991-b998-43a6483947a8"
      },
      "outputs": [
        {
          "output_type": "stream",
          "name": "stdout",
          "text": [
            "          free sulfur dioxide  alcohol  total sulfur dioxide  density\n",
            "LeeGoeun                                                             \n",
            "0.56                     11.0      9.4                  34.0   0.9978\n",
            "0.68                     25.0      9.8                  67.0   0.9968\n",
            "0.65                     15.0      9.8                  54.0   0.9970\n",
            "0.58                     17.0      9.8                  60.0   0.9980\n",
            "0.56                     11.0      9.4                  34.0   0.9978\n"
          ]
        }
      ],
      "source": [
        "#③ ②번에서 선택한 5개 열 가운데 임의로 한 개를 선택하여 본인 영어이름으로 column name을 바꾸고 이 column을 index로 한다. 처음 5행을 print 출력한다.\n",
        "import numpy as np\n",
        "import pandas as pd\n",
        "import random\n",
        "\n",
        "red=pd.read_csv('http://archive.ics.uci.edu/ml/machine-learning-databases/wine-quality/winequality-red.csv',sep=';')\n",
        "\n",
        "red=red.sample(n=5,random_state=789,axis=1) #열 중에 5개만 랜덤 선택하여 red data를 다시 만듦\n",
        "\n",
        "rename_col=red.columns[random.randrange(0,5)] #5개의 열 가운데 하나를 선택\n",
        "\n",
        "red.rename(columns={rename_col:'LeeGoeun'},inplace=True) #열의 이름을 변경\n",
        "\n",
        "red = red.set_index('LeeGoeun') #열을 인덱스로 지정\n",
        "print(red.head())\n"
      ]
    },
    {
      "cell_type": "code",
      "source": [
        "#1. column이 3열, row가 5행인 pandas data를 임의로 만든다. 이때, 데이터값은 0~100사이의 임의의 값으로 한다. column name은 임의로 한다. 만들어진 pandas data를 전체 print 출력한다.\n",
        "#2. 위 pandas data를 이용하여 다음처럼 split 하여 4개의 데이터를 만들고 각각을 전체 print 출력한다. 데이터 이름은 임의로 한다.\n",
        "import numpy as np\n",
        "import pandas as pd\n",
        "import random\n",
        "\n",
        "dataset =pd.DataFrame({'c1':random.sample(range(100),5) ,'c2':random.sample(range(100),5) ,'c3':random.sample(range(100),5) },index = [1,2,3,4,5])\n",
        "\n",
        "a=dataset.iloc[:3,:2]\n",
        "b=dataset.iloc[:3,2:3]\n",
        "c=dataset.iloc[3:,:2]\n",
        "d=dataset.iloc[3:,2:]\n",
        "print(a,'\\n')\n",
        "print(b,'\\n')\n",
        "print(c,'\\n')\n",
        "print(d,'\\n')"
      ],
      "metadata": {
        "colab": {
          "base_uri": "https://localhost:8080/"
        },
        "id": "12HpjqaZw5jS",
        "outputId": "0ac2d15d-eb03-47db-f6ba-ef7837649018"
      },
      "execution_count": 101,
      "outputs": [
        {
          "output_type": "stream",
          "name": "stdout",
          "text": [
            "   c1  c2\n",
            "1  12  53\n",
            "2   7  65\n",
            "3  87  89 \n",
            "\n",
            "   c3\n",
            "1  17\n",
            "2  43\n",
            "3  83 \n",
            "\n",
            "   c1  c2\n",
            "4  98   9\n",
            "5  77  66 \n",
            "\n",
            "   c3\n",
            "4  24\n",
            "5  35 \n",
            "\n"
          ]
        }
      ]
    },
    {
      "cell_type": "code",
      "source": [
        "#3. 1번의 데이터에서 한 column에 있는 5개 숫자의 합(sum)과 평균(average)를 만든다. 3열에 대하여 각각 수행한다. 이 과정을 for문을 이용하여 코딩한다. 계산된 합과 평균을 2행 3열의 pandas 데이터로 만든다.\n",
        "#4. 3번의 합과 평균 pandas 데이터를 1번 pandas 데이터와 결합하여 3열 7행의 새로운 pandas 데이터를 만든다.  이때, pandas의 concate 메서드를 사용한다. 새로운 pandas 전체를 print 출력한다.\n",
        "import numpy as np\n",
        "import pandas as pd\n",
        "import random\n",
        "\n",
        "dataset =pd.DataFrame({'c1':random.sample(range(100),5) ,'c2':random.sample(range(100),5) ,'c3':random.sample(range(100),5) },index = [1,2,3,4,5])\n",
        "print(dataset)\n",
        "\n",
        "result =pd.DataFrame({'c1':[0,0],'c2':[0,0],'c3':[0,0]},index=['sum','average'])\n",
        "\n",
        "for i in range(3):\n",
        "  result.iloc[0,i]=dataset[dataset.columns[i]].sum() #합 구하기\n",
        "  result.iloc[1,i]=result.iloc[0,i]/5 #평균 구하기\n",
        "print(result,'\\n')\n",
        "\n",
        "new = pd.concat([dataset,result])\n",
        "print(new)"
      ],
      "metadata": {
        "colab": {
          "base_uri": "https://localhost:8080/"
        },
        "id": "0Smq4jPg_b3s",
        "outputId": "b6ea6260-6d2c-4543-cc05-e2b911e83fb3"
      },
      "execution_count": 122,
      "outputs": [
        {
          "output_type": "stream",
          "name": "stdout",
          "text": [
            "   c1  c2  c3\n",
            "1  16  46  24\n",
            "2  38  29  88\n",
            "3   0  23  91\n",
            "4  50  80  71\n",
            "5   7   4  14\n",
            "            c1     c2     c3\n",
            "sum      111.0  182.0  288.0\n",
            "average   22.2   36.4   57.6 \n",
            "\n",
            "            c1     c2     c3\n",
            "1         16.0   46.0   24.0\n",
            "2         38.0   29.0   88.0\n",
            "3          0.0   23.0   91.0\n",
            "4         50.0   80.0   71.0\n",
            "5          7.0    4.0   14.0\n",
            "sum      111.0  182.0  288.0\n",
            "average   22.2   36.4   57.6\n"
          ]
        }
      ]
    }
  ]
}